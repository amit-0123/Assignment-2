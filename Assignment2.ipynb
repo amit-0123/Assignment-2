{
 "cells": [
  {
   "cell_type": "code",
   "execution_count": 20,
   "id": "2dfb496f-0c38-471c-bf07-ed9ce884096a",
   "metadata": {},
   "outputs": [],
   "source": [
    "# Ans 1: \n",
    "\n",
    "# We can comment in the python using control+farward slas (#) and also by tripple single inverted comma or tripple double inverted comma.\n",
    "# Ther are three type of comment single line , multi line and docstring."
   ]
  },
  {
   "cell_type": "code",
   "execution_count": null,
   "id": "6e24a38b-4a50-443d-a8cb-657222756662",
   "metadata": {},
   "outputs": [],
   "source": [
    "# Ans 2:  \n",
    "\n",
    "#  Variables in python is just like containers which is used to store data values.\n",
    "#  we does not write any data type for variable in python ,rather we directly write variable name = data and pyhton automatically underatand\n",
    "#  data type of the variable according to the data stored in the variable\n",
    "#  example: x=10 ,pyhon will give data type \"int\"."
   ]
  },
  {
   "cell_type": "code",
   "execution_count": 4,
   "id": "248981df-fa19-4857-a6bb-a4ee8dec2c30",
   "metadata": {},
   "outputs": [
    {
     "data": {
      "text/plain": [
       "int"
      ]
     },
     "execution_count": 4,
     "metadata": {},
     "output_type": "execute_result"
    }
   ],
   "source": [
    "#  Ans 3 :\n",
    "\n",
    "# There are two type of data type conversion in python i) implicit conversion in which python automatically convert and \n",
    "#  ii)   explicit conversion in which we use built in function to convert from one data to another ex. str(),int(),float(), list(),etc.\n",
    "#  example: \n",
    "x=10\n",
    "y=str(x)\n",
    "type(x)"
   ]
  },
  {
   "cell_type": "code",
   "execution_count": 16,
   "id": "5378fda4-c39d-48da-9eba-28d8dc0e7489",
   "metadata": {},
   "outputs": [
    {
     "data": {
      "text/plain": [
       "str"
      ]
     },
     "execution_count": 16,
     "metadata": {},
     "output_type": "execute_result"
    }
   ],
   "source": [
    "type(y)"
   ]
  },
  {
   "cell_type": "code",
   "execution_count": 6,
   "id": "0ad12f97-71a9-4c9d-bc55-e9e138fd5b5f",
   "metadata": {},
   "outputs": [],
   "source": [
    "#  Ans 4:\n",
    "\n",
    "#  To run a Python script store in a ‘.py’ file in command line, we have to write ‘python’ keyword before the file name in the command prompt.\n",
    "#  python file_name.py\n",
    "#  Now we can run the code\n",
    "# ex. print(hello) and press enter ,it  will give output"
   ]
  },
  {
   "cell_type": "code",
   "execution_count": 7,
   "id": "8265e43f-d246-4bc5-9770-b706e6f343f8",
   "metadata": {},
   "outputs": [
    {
     "data": {
      "text/plain": [
       "[1, 2, 3, 4]"
      ]
     },
     "execution_count": 7,
     "metadata": {},
     "output_type": "execute_result"
    }
   ],
   "source": [
    "# Ans 5:\n",
    "\n",
    "my_list=[1,2,3,4,5]\n",
    "#  slicing\n",
    "my_list[0:4]"
   ]
  },
  {
   "cell_type": "code",
   "execution_count": 8,
   "id": "43327432-8895-4b5c-ace1-f1cb5e25ff46",
   "metadata": {},
   "outputs": [],
   "source": [
    "# obtaining sublist [2,3]\n",
    "l=[]\n",
    "for i in my_list:\n",
    "    if i==2 or i==3:\n",
    "        l.append(i)\n",
    "    "
   ]
  },
  {
   "cell_type": "code",
   "execution_count": 17,
   "id": "6368b882-38de-4bee-9d23-936a6103568f",
   "metadata": {},
   "outputs": [
    {
     "data": {
      "text/plain": [
       "[2, 3]"
      ]
     },
     "execution_count": 17,
     "metadata": {},
     "output_type": "execute_result"
    }
   ],
   "source": [
    "l\n",
    "#  required sublist obtained"
   ]
  },
  {
   "cell_type": "code",
   "execution_count": 10,
   "id": "d1d8f549-1cf8-4ca8-8681-2af21659b70f",
   "metadata": {},
   "outputs": [],
   "source": [
    "#  Ans 6:\n",
    "\n",
    "#  Complex number in mathematics are combination of real and imaginary number where imaginary number are denoted with iota 'i'\n",
    "#  where as  complex number in python are same as in mathematics but there is no concept of iota 'i' rather we use j in place of i."
   ]
  },
  {
   "cell_type": "code",
   "execution_count": 11,
   "id": "e2c8ef20-b6f7-407e-82f3-064fb7d702d6",
   "metadata": {},
   "outputs": [
    {
     "data": {
      "text/plain": [
       "25"
      ]
     },
     "execution_count": 11,
     "metadata": {},
     "output_type": "execute_result"
    }
   ],
   "source": [
    " # Ans 7: \n",
    "    \n",
    "#  The correct way to declare variable named age and assign 25 to it is\n",
    "age=25\n",
    "age\n"
   ]
  },
  {
   "cell_type": "code",
   "execution_count": 12,
   "id": "af921e4b-8e75-46af-bbf9-7a05dbaec1c1",
   "metadata": {},
   "outputs": [
    {
     "data": {
      "text/plain": [
       "float"
      ]
     },
     "execution_count": 12,
     "metadata": {},
     "output_type": "execute_result"
    }
   ],
   "source": [
    "#  Ans 8:\n",
    "price = 9.99\n",
    "#  this data type belong to float data type\n",
    "type(price)"
   ]
  },
  {
   "cell_type": "code",
   "execution_count": 13,
   "id": "02be2d3c-e068-4c28-bb30-76eaab4943c3",
   "metadata": {},
   "outputs": [
    {
     "name": "stdout",
     "output_type": "stream",
     "text": [
      "Amit yadav\n"
     ]
    }
   ],
   "source": [
    "#  Ans 9:\n",
    "name=\"Amit yadav\"\n",
    "print(name)"
   ]
  },
  {
   "cell_type": "code",
   "execution_count": 15,
   "id": "3eeddbe4-5fb9-4b9a-b4e2-f67b68ff6cbb",
   "metadata": {},
   "outputs": [
    {
     "name": "stdout",
     "output_type": "stream",
     "text": [
      "world\n"
     ]
    }
   ],
   "source": [
    "#  Ans 10:\n",
    "s=\"hello world!\"\n",
    "print(s[6:11])"
   ]
  },
  {
   "cell_type": "code",
   "execution_count": 19,
   "id": "ba217000-7544-4284-910b-76822c6ce259",
   "metadata": {},
   "outputs": [
    {
     "name": "stdout",
     "output_type": "stream",
     "text": [
      " you are a student\n"
     ]
    }
   ],
   "source": [
    "#  Ans 11:\n",
    "is_student=True\n",
    "if is_student==1:\n",
    "    print(\" you are a student\")\n",
    "else:\n",
    "    print(\" you are not a student\")\n",
    "    "
   ]
  },
  {
   "cell_type": "code",
   "execution_count": null,
   "id": "b8d425de-7a6f-475c-853c-cc46e261adbb",
   "metadata": {},
   "outputs": [],
   "source": []
  }
 ],
 "metadata": {
  "kernelspec": {
   "display_name": "Python 3 (ipykernel)",
   "language": "python",
   "name": "python3"
  },
  "language_info": {
   "codemirror_mode": {
    "name": "ipython",
    "version": 3
   },
   "file_extension": ".py",
   "mimetype": "text/x-python",
   "name": "python",
   "nbconvert_exporter": "python",
   "pygments_lexer": "ipython3",
   "version": "3.10.8"
  }
 },
 "nbformat": 4,
 "nbformat_minor": 5
}
